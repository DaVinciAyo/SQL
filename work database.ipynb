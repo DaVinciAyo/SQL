{
  "nbformat": 4,
  "nbformat_minor": 0,
  "metadata": {
    "colab": {
      "provenance": [],
      "authorship_tag": "ABX9TyPouR8QjCa1ECtqgq31E7vL"
    },
    "kernelspec": {
      "name": "python3",
      "display_name": "Python 3"
    },
    "language_info": {
      "name": "python"
    }
  },
  "cells": [
    {
      "cell_type": "code",
      "execution_count": 1,
      "metadata": {
        "colab": {
          "base_uri": "https://localhost:8080/"
        },
        "id": "vG4eOtUlZTNc",
        "outputId": "2d45a6b7-b51a-44b5-a32a-8c618d63a101"
      },
      "outputs": [
        {
          "output_type": "stream",
          "name": "stdout",
          "text": [
            "   ID   EmployeeName    HireDate  Salary  Active  Department  \\\n",
            "0   1  Alice Johnson  15/03/2015   55000    True          HR   \n",
            "1   2      Bob Smith  22/07/2018   62000    True       Sales   \n",
            "2   3  Charlie Brown  30/11/2012   48000   False     Finance   \n",
            "3   4   Diana Prince  10/01/2020   72000    True          IT   \n",
            "4   5     Ethan Hunt  05/05/2014   67000    True  Operations   \n",
            "\n",
            "                                       SQL Statement  \n",
            "0  INSERT INTO Employees (ID, EmployeeName, HireD...  \n",
            "1  INSERT INTO Employees (ID, EmployeeName, HireD...  \n",
            "2  INSERT INTO Employees (ID, EmployeeName, HireD...  \n",
            "3  INSERT INTO Employees (ID, EmployeeName, HireD...  \n",
            "4  INSERT INTO Employees (ID, EmployeeName, HireD...  \n"
          ]
        }
      ],
      "source": [
        "import pandas as pd\n",
        "\n",
        "df = pd.read_csv(\"/content/DATABASE.csv\")\n",
        "print(df.head())  # View first few rows"
      ]
    },
    {
      "cell_type": "code",
      "source": [
        "import sqlite3\n",
        "\n",
        "conn = sqlite3.connect(\"company.db\")\n",
        "cursor = conn.cursor()\n",
        "\n",
        "cursor.execute(\"\"\"\n",
        "    CREATE TABLE IF NOT EXISTS Employees (\n",
        "        ID INTEGER PRIMARY KEY,\n",
        "        EmployeeName TEXT,\n",
        "        HireDate DATE,\n",
        "        Salary INTEGER,\n",
        "        Active BOOLEAN,\n",
        "        Department TEXT\n",
        "    )\n",
        "\"\"\")\n",
        "\n",
        "conn.commit()\n"
      ],
      "metadata": {
        "id": "4EzHSPEwZnj4"
      },
      "execution_count": 2,
      "outputs": []
    },
    {
      "cell_type": "code",
      "source": [
        "for index, row in df.iterrows():\n",
        "    try:\n",
        "        cursor.execute(\"\"\"\n",
        "            INSERT INTO Employees (ID, EmployeeName, HireDate, Salary, Active, Department)\n",
        "            VALUES (?, ?, ?, ?, ?, ?)\n",
        "        \"\"\", (row['ID'], row['EmployeeName'], row['HireDate'], row['Salary'], row['Active'], row['Department']))\n",
        "    except sqlite3.IntegrityError as e:\n",
        "        print(f\"Error inserting row: {row}\")\n",
        "        pass\n",
        "conn.commit()\n",
        "\n",
        "cursor.execute(\"SELECT * FROM Employees\")\n",
        "rows = cursor.fetchall()\n",
        "for row in rows:\n",
        "    print(row)"
      ],
      "metadata": {
        "colab": {
          "base_uri": "https://localhost:8080/"
        },
        "id": "7bFyXuqBZ_xH",
        "outputId": "dac2ad61-5006-4883-88d2-d9f9e490b775"
      },
      "execution_count": 3,
      "outputs": [
        {
          "output_type": "stream",
          "name": "stdout",
          "text": [
            "(1, 'Alice Johnson', '15/03/2015', 55000, 1, 'HR')\n",
            "(2, 'Bob Smith', '22/07/2018', 62000, 1, 'Sales')\n",
            "(3, 'Charlie Brown', '30/11/2012', 48000, 0, 'Finance')\n",
            "(4, 'Diana Prince', '10/01/2020', 72000, 1, 'IT')\n",
            "(5, 'Ethan Hunt', '05/05/2014', 67000, 1, 'Operations')\n",
            "(6, 'Fiona Gallagher', '12/09/2017', 53000, 0, 'Marketing')\n",
            "(7, 'George Bailey', '28/02/2013', 49000, 1, 'Finance')\n",
            "(8, 'Hannah Montana', '20/06/2016', 61000, 1, 'IT')\n",
            "(9, 'Ian Malcolm', '01/12/2011', 80000, 0, 'Research')\n",
            "(10, 'Jessica Pearson', '18/04/2019', 90000, 1, 'Management')\n",
            "(11, 'Kevin Malone', '30/10/2010', 45000, 0, 'Finance')\n",
            "(12, 'Laura Palmer', '15/08/2021', 58000, 1, 'Sales')\n",
            "(13, 'Michael Scott', '24/03/2005', 75000, 1, 'Sales')\n",
            "(14, 'Nancy Drew', '19/07/2013', 63000, 1, 'Research')\n",
            "(15, 'Oscar Martinez', '14/09/2011', 55000, 0, 'Accounting')\n",
            "(16, 'Pam Beesly', '12/05/2008', 48000, 1, 'Sales')\n",
            "(17, 'Quentin Tarantino', '07/11/2003', 100000, 1, 'Creative')\n",
            "(18, 'Rachel Green', '01/02/2016', 67000, 1, 'Fashion')\n",
            "(19, 'Samuel L. Jackson', '25/01/2012', 85000, 0, 'Operations')\n",
            "(20, 'Tina Fey', '12/12/2014', 77000, 1, 'Marketing')\n"
          ]
        }
      ]
    },
    {
      "cell_type": "code",
      "source": [
        "# Prompt user for input\n",
        "EmployeeName = input(\"Enter Employee Name: \")\n",
        "HireDate = input(\"Enter Hire Date (DD/MM/YYYY): \")\n",
        "Salary = int(input(\"Enter Salary: \"))\n",
        "Active = bool(input(\"Is the employee active? (True/False): \"))\n",
        "Department = input(\"Enter Department: \")\n",
        "\n",
        "insert_query = \"INSERT INTO Employees (EmployeeName, HireDate, Salary, Active, Department) VALUES (?, ?, ?, ?, ?)\"\n",
        "cursor.execute(insert_query, (EmployeeName, HireDate, Salary, Active, Department))\n",
        "conn.commit()\n",
        "\n",
        "\n",
        "print(\"Record successfully inserted!\")\n"
      ],
      "metadata": {
        "colab": {
          "base_uri": "https://localhost:8080/"
        },
        "id": "Ge9dDunncdzu",
        "outputId": "551f8a9b-3bc2-46b1-c90e-96757e7a33f6"
      },
      "execution_count": 4,
      "outputs": [
        {
          "output_type": "stream",
          "name": "stdout",
          "text": [
            "Enter Employee Name: Daramola Ayomide\n",
            "Enter Hire Date (DD/MM/YYYY): 28/12/2023\n",
            "Enter Salary: 170000\n",
            "Is the employee active? (True/False): True\n",
            "Enter Department: Data Science\n",
            "Record successfully inserted!\n"
          ]
        }
      ]
    },
    {
      "cell_type": "code",
      "source": [
        "cursor.execute(\"SELECT * FROM Employees;\")\n",
        "rows = cursor.fetchall()\n",
        "\n",
        "for row in rows:\n",
        "    print(row)  # Print each row"
      ],
      "metadata": {
        "colab": {
          "base_uri": "https://localhost:8080/"
        },
        "id": "8udtWWFsdSHc",
        "outputId": "771d316d-c36c-483d-eba4-db91ad90ca0e"
      },
      "execution_count": 5,
      "outputs": [
        {
          "output_type": "stream",
          "name": "stdout",
          "text": [
            "(1, 'Alice Johnson', '15/03/2015', 55000, 1, 'HR')\n",
            "(2, 'Bob Smith', '22/07/2018', 62000, 1, 'Sales')\n",
            "(3, 'Charlie Brown', '30/11/2012', 48000, 0, 'Finance')\n",
            "(4, 'Diana Prince', '10/01/2020', 72000, 1, 'IT')\n",
            "(5, 'Ethan Hunt', '05/05/2014', 67000, 1, 'Operations')\n",
            "(6, 'Fiona Gallagher', '12/09/2017', 53000, 0, 'Marketing')\n",
            "(7, 'George Bailey', '28/02/2013', 49000, 1, 'Finance')\n",
            "(8, 'Hannah Montana', '20/06/2016', 61000, 1, 'IT')\n",
            "(9, 'Ian Malcolm', '01/12/2011', 80000, 0, 'Research')\n",
            "(10, 'Jessica Pearson', '18/04/2019', 90000, 1, 'Management')\n",
            "(11, 'Kevin Malone', '30/10/2010', 45000, 0, 'Finance')\n",
            "(12, 'Laura Palmer', '15/08/2021', 58000, 1, 'Sales')\n",
            "(13, 'Michael Scott', '24/03/2005', 75000, 1, 'Sales')\n",
            "(14, 'Nancy Drew', '19/07/2013', 63000, 1, 'Research')\n",
            "(15, 'Oscar Martinez', '14/09/2011', 55000, 0, 'Accounting')\n",
            "(16, 'Pam Beesly', '12/05/2008', 48000, 1, 'Sales')\n",
            "(17, 'Quentin Tarantino', '07/11/2003', 100000, 1, 'Creative')\n",
            "(18, 'Rachel Green', '01/02/2016', 67000, 1, 'Fashion')\n",
            "(19, 'Samuel L. Jackson', '25/01/2012', 85000, 0, 'Operations')\n",
            "(20, 'Tina Fey', '12/12/2014', 77000, 1, 'Marketing')\n",
            "(21, 'Daramola Ayomide', '28/12/2023', 170000, 1, 'Data Science')\n"
          ]
        }
      ]
    },
    {
      "cell_type": "code",
      "source": [
        "# Fetch data from a specific table (e.g., Employees)\n",
        "query = \"SELECT * FROM Employees\"\n",
        "df = pd.read_sql_query(query, conn)\n",
        "\n",
        "# Save the DataFrame as a CSV file\n",
        "df.to_csv(\"employees.csv\", index=False)"
      ],
      "metadata": {
        "id": "ZZc0z7Y9ifGk"
      },
      "execution_count": 6,
      "outputs": []
    },
    {
      "cell_type": "code",
      "source": [],
      "metadata": {
        "id": "Z3QBKPx3kGCx"
      },
      "execution_count": 6,
      "outputs": []
    }
  ]
}